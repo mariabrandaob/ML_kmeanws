{
  "nbformat": 4,
  "nbformat_minor": 0,
  "metadata": {
    "colab": {
      "provenance": []
    },
    "kernelspec": {
      "display_name": "Python 3",
      "language": "python",
      "name": "python3"
    },
    "language_info": {
      "codemirror_mode": {
        "name": "ipython",
        "version": 3
      },
      "file_extension": ".py",
      "mimetype": "text/x-python",
      "name": "python",
      "nbconvert_exporter": "python",
      "pygments_lexer": "ipython3",
      "version": "3.9.5"
    },
    "toc": {
      "base_numbering": 1,
      "nav_menu": {},
      "number_sections": true,
      "sideBar": true,
      "skip_h1_title": false,
      "title_cell": "Table of Contents",
      "title_sidebar": "Contents",
      "toc_cell": false,
      "toc_position": {},
      "toc_section_display": true,
      "toc_window_display": false
    }
  },
  "cells": [
    {
      "cell_type": "markdown",
      "metadata": {
        "id": "LxKrzj_-s2mN"
      },
      "source": [
        "# Machine Learning - Kmeans\n",
        "Applying kmeans algorithm on a dataset"
      ]
    },
    {
      "cell_type": "code",
      "source": [
        "!gdown 1w47_BBfkyyMNt1kNI7-nKM6JefR7Eh_S"
      ],
      "metadata": {
        "colab": {
          "base_uri": "https://localhost:8080/"
        },
        "id": "6ie0TYL6qY9z",
        "outputId": "468d177b-50cc-4643-8bd5-55e5159ddbdd"
      },
      "execution_count": null,
      "outputs": [
        {
          "output_type": "stream",
          "name": "stdout",
          "text": [
            "Downloading...\n",
            "From: https://drive.google.com/uc?id=1w47_BBfkyyMNt1kNI7-nKM6JefR7Eh_S\n",
            "To: /content/bank_marketing_exercicio.csv\n",
            "\r  0% 0.00/4.74k [00:00<?, ?B/s]\r100% 4.74k/4.74k [00:00<00:00, 15.3MB/s]\n"
          ]
        }
      ]
    },
    {
      "cell_type": "code",
      "metadata": {
        "colab": {
          "base_uri": "https://localhost:8080/",
          "height": 424
        },
        "id": "Ksk58ZHOuB3M",
        "outputId": "02c0a0da-a7c7-452a-bf68-c63dd3e207ce"
      },
      "source": [
        "import pandas as pd\n",
        "\n",
        "df_dados = pd.read_csv('bank_marketing_exercicio.csv')\n",
        "df_dados"
      ],
      "execution_count": null,
      "outputs": [
        {
          "output_type": "execute_result",
          "data": {
            "text/plain": [
              "     age  balance  duration\n",
              "0     37     4760       182\n",
              "1     30     -393       435\n",
              "2     32     2979       156\n",
              "3     30     1185       284\n",
              "4     42      221       720\n",
              "..   ...      ...       ...\n",
              "395   47      477       973\n",
              "396   40     4795        57\n",
              "397   42      216       144\n",
              "398   36     2880       283\n",
              "399   31      202       146\n",
              "\n",
              "[400 rows x 3 columns]"
            ],
            "text/html": [
              "\n",
              "  <div id=\"df-8884bdae-3a28-46d9-bde5-dc4139228a2c\">\n",
              "    <div class=\"colab-df-container\">\n",
              "      <div>\n",
              "<style scoped>\n",
              "    .dataframe tbody tr th:only-of-type {\n",
              "        vertical-align: middle;\n",
              "    }\n",
              "\n",
              "    .dataframe tbody tr th {\n",
              "        vertical-align: top;\n",
              "    }\n",
              "\n",
              "    .dataframe thead th {\n",
              "        text-align: right;\n",
              "    }\n",
              "</style>\n",
              "<table border=\"1\" class=\"dataframe\">\n",
              "  <thead>\n",
              "    <tr style=\"text-align: right;\">\n",
              "      <th></th>\n",
              "      <th>age</th>\n",
              "      <th>balance</th>\n",
              "      <th>duration</th>\n",
              "    </tr>\n",
              "  </thead>\n",
              "  <tbody>\n",
              "    <tr>\n",
              "      <th>0</th>\n",
              "      <td>37</td>\n",
              "      <td>4760</td>\n",
              "      <td>182</td>\n",
              "    </tr>\n",
              "    <tr>\n",
              "      <th>1</th>\n",
              "      <td>30</td>\n",
              "      <td>-393</td>\n",
              "      <td>435</td>\n",
              "    </tr>\n",
              "    <tr>\n",
              "      <th>2</th>\n",
              "      <td>32</td>\n",
              "      <td>2979</td>\n",
              "      <td>156</td>\n",
              "    </tr>\n",
              "    <tr>\n",
              "      <th>3</th>\n",
              "      <td>30</td>\n",
              "      <td>1185</td>\n",
              "      <td>284</td>\n",
              "    </tr>\n",
              "    <tr>\n",
              "      <th>4</th>\n",
              "      <td>42</td>\n",
              "      <td>221</td>\n",
              "      <td>720</td>\n",
              "    </tr>\n",
              "    <tr>\n",
              "      <th>...</th>\n",
              "      <td>...</td>\n",
              "      <td>...</td>\n",
              "      <td>...</td>\n",
              "    </tr>\n",
              "    <tr>\n",
              "      <th>395</th>\n",
              "      <td>47</td>\n",
              "      <td>477</td>\n",
              "      <td>973</td>\n",
              "    </tr>\n",
              "    <tr>\n",
              "      <th>396</th>\n",
              "      <td>40</td>\n",
              "      <td>4795</td>\n",
              "      <td>57</td>\n",
              "    </tr>\n",
              "    <tr>\n",
              "      <th>397</th>\n",
              "      <td>42</td>\n",
              "      <td>216</td>\n",
              "      <td>144</td>\n",
              "    </tr>\n",
              "    <tr>\n",
              "      <th>398</th>\n",
              "      <td>36</td>\n",
              "      <td>2880</td>\n",
              "      <td>283</td>\n",
              "    </tr>\n",
              "    <tr>\n",
              "      <th>399</th>\n",
              "      <td>31</td>\n",
              "      <td>202</td>\n",
              "      <td>146</td>\n",
              "    </tr>\n",
              "  </tbody>\n",
              "</table>\n",
              "<p>400 rows × 3 columns</p>\n",
              "</div>\n",
              "      <button class=\"colab-df-convert\" onclick=\"convertToInteractive('df-8884bdae-3a28-46d9-bde5-dc4139228a2c')\"\n",
              "              title=\"Convert this dataframe to an interactive table.\"\n",
              "              style=\"display:none;\">\n",
              "        \n",
              "  <svg xmlns=\"http://www.w3.org/2000/svg\" height=\"24px\"viewBox=\"0 0 24 24\"\n",
              "       width=\"24px\">\n",
              "    <path d=\"M0 0h24v24H0V0z\" fill=\"none\"/>\n",
              "    <path d=\"M18.56 5.44l.94 2.06.94-2.06 2.06-.94-2.06-.94-.94-2.06-.94 2.06-2.06.94zm-11 1L8.5 8.5l.94-2.06 2.06-.94-2.06-.94L8.5 2.5l-.94 2.06-2.06.94zm10 10l.94 2.06.94-2.06 2.06-.94-2.06-.94-.94-2.06-.94 2.06-2.06.94z\"/><path d=\"M17.41 7.96l-1.37-1.37c-.4-.4-.92-.59-1.43-.59-.52 0-1.04.2-1.43.59L10.3 9.45l-7.72 7.72c-.78.78-.78 2.05 0 2.83L4 21.41c.39.39.9.59 1.41.59.51 0 1.02-.2 1.41-.59l7.78-7.78 2.81-2.81c.8-.78.8-2.07 0-2.86zM5.41 20L4 18.59l7.72-7.72 1.47 1.35L5.41 20z\"/>\n",
              "  </svg>\n",
              "      </button>\n",
              "      \n",
              "  <style>\n",
              "    .colab-df-container {\n",
              "      display:flex;\n",
              "      flex-wrap:wrap;\n",
              "      gap: 12px;\n",
              "    }\n",
              "\n",
              "    .colab-df-convert {\n",
              "      background-color: #E8F0FE;\n",
              "      border: none;\n",
              "      border-radius: 50%;\n",
              "      cursor: pointer;\n",
              "      display: none;\n",
              "      fill: #1967D2;\n",
              "      height: 32px;\n",
              "      padding: 0 0 0 0;\n",
              "      width: 32px;\n",
              "    }\n",
              "\n",
              "    .colab-df-convert:hover {\n",
              "      background-color: #E2EBFA;\n",
              "      box-shadow: 0px 1px 2px rgba(60, 64, 67, 0.3), 0px 1px 3px 1px rgba(60, 64, 67, 0.15);\n",
              "      fill: #174EA6;\n",
              "    }\n",
              "\n",
              "    [theme=dark] .colab-df-convert {\n",
              "      background-color: #3B4455;\n",
              "      fill: #D2E3FC;\n",
              "    }\n",
              "\n",
              "    [theme=dark] .colab-df-convert:hover {\n",
              "      background-color: #434B5C;\n",
              "      box-shadow: 0px 1px 3px 1px rgba(0, 0, 0, 0.15);\n",
              "      filter: drop-shadow(0px 1px 2px rgba(0, 0, 0, 0.3));\n",
              "      fill: #FFFFFF;\n",
              "    }\n",
              "  </style>\n",
              "\n",
              "      <script>\n",
              "        const buttonEl =\n",
              "          document.querySelector('#df-8884bdae-3a28-46d9-bde5-dc4139228a2c button.colab-df-convert');\n",
              "        buttonEl.style.display =\n",
              "          google.colab.kernel.accessAllowed ? 'block' : 'none';\n",
              "\n",
              "        async function convertToInteractive(key) {\n",
              "          const element = document.querySelector('#df-8884bdae-3a28-46d9-bde5-dc4139228a2c');\n",
              "          const dataTable =\n",
              "            await google.colab.kernel.invokeFunction('convertToInteractive',\n",
              "                                                     [key], {});\n",
              "          if (!dataTable) return;\n",
              "\n",
              "          const docLinkHtml = 'Like what you see? Visit the ' +\n",
              "            '<a target=\"_blank\" href=https://colab.research.google.com/notebooks/data_table.ipynb>data table notebook</a>'\n",
              "            + ' to learn more about interactive tables.';\n",
              "          element.innerHTML = '';\n",
              "          dataTable['output_type'] = 'display_data';\n",
              "          await google.colab.output.renderOutput(dataTable, element);\n",
              "          const docLink = document.createElement('div');\n",
              "          docLink.innerHTML = docLinkHtml;\n",
              "          element.appendChild(docLink);\n",
              "        }\n",
              "      </script>\n",
              "    </div>\n",
              "  </div>\n",
              "  "
            ]
          },
          "metadata": {},
          "execution_count": 2
        }
      ]
    },
    {
      "cell_type": "markdown",
      "metadata": {
        "id": "ldzXpcQW3tdm"
      },
      "source": [
        "##1.\n",
        "\n",
        "Running k-means with the following parameters:\n",
        "\n",
        "* Maximum number of iterations = 300\n",
        "* Method for initialization = random\n",
        "* Number of times the k-means algorithm is run with different centroid seeds = 10\n",
        "* Number of clusters = 4, 5, 6 and 7\n",
        "\n",
        "Getting a list of the centroids."
      ]
    },
    {
      "cell_type": "code",
      "source": [
        "import sklearn as skt\n",
        "from sklearn.cluster import KMeans\n",
        "import matplotlib.pyplot as plt\n",
        "import numpy as np\n"
      ],
      "metadata": {
        "id": "XOu42afQGABQ"
      },
      "execution_count": null,
      "outputs": []
    },
    {
      "cell_type": "code",
      "source": [
        "#4 clusters\n",
        "\n",
        "kmeans_4 = KMeans(n_clusters=4, init='random', max_iter=300, n_init=10, random_state=42)\n",
        "kmeans_4.fit(df_dados)\n",
        "agrupamento4 = kmeans_4.predict(df_dados)\n",
        "\n",
        "#list of cluster label for each object\n",
        "print(agrupamento4)"
      ],
      "metadata": {
        "colab": {
          "base_uri": "https://localhost:8080/"
        },
        "id": "8-IK51ygIRgG",
        "outputId": "a58e7e4f-7e96-4ace-d1d9-0f634e0c4c3e"
      },
      "execution_count": null,
      "outputs": [
        {
          "output_type": "stream",
          "name": "stdout",
          "text": [
            "[0 3 0 3 3 0 0 2 3 2 2 0 2 2 0 0 0 3 3 3 3 2 2 3 0 3 2 3 3 2 3 3 3 2 2 1 3\n",
            " 1 1 0 3 0 0 3 0 3 3 1 3 3 3 3 3 3 3 3 3 0 0 0 1 3 0 1 1 3 0 2 2 1 3 0 0 1\n",
            " 3 3 0 2 3 0 1 0 3 1 3 0 3 3 2 3 3 0 3 1 3 3 3 3 0 3 0 2 1 0 3 3 0 0 3 3 3\n",
            " 3 3 2 3 1 0 0 2 3 1 1 3 3 3 0 1 3 3 3 3 3 3 3 3 2 2 1 1 2 2 3 0 3 3 3 3 0\n",
            " 2 1 0 3 1 1 1 3 0 0 2 2 0 0 0 3 3 1 3 0 0 3 1 3 0 3 0 3 3 2 3 3 1 1 3 1 2\n",
            " 3 3 3 3 0 1 0 3 2 3 3 0 3 3 3 3 0 0 3 0 2 0 2 2 0 3 2 0 0 2 0 1 3 3 2 0 2\n",
            " 3 3 3 1 3 3 3 3 0 0 3 3 0 3 0 0 3 0 3 1 3 3 2 3 3 0 1 1 3 3 0 2 1 0 2 1 3\n",
            " 0 1 3 3 1 0 3 3 3 3 3 2 3 3 0 3 0 2 2 3 3 2 3 3 3 3 1 3 3 3 3 3 3 3 3 3 3\n",
            " 0 1 2 3 3 0 1 1 3 3 1 0 2 3 3 3 2 0 0 3 3 0 3 2 3 3 3 0 3 3 0 3 3 3 3 0 3\n",
            " 2 3 3 3 3 0 3 3 3 1 0 0 3 0 3 3 3 1 3 1 1 2 3 1 3 3 3 0 3 3 3 3 3 0 0 0 3\n",
            " 0 0 3 0 3 3 3 2 3 1 0 0 1 0 3 3 0 3 0 2 0 3 3 0 0 3 0 3 0 3]\n"
          ]
        }
      ]
    },
    {
      "cell_type": "code",
      "source": [
        "#list of centroids for 4 clusters\n",
        "#the values ​​represent the columns 'age', 'balance' and 'duration'\n",
        "centroides_4 = kmeans_4.cluster_centers_\n",
        "print(centroides_4)"
      ],
      "metadata": {
        "colab": {
          "base_uri": "https://localhost:8080/"
        },
        "id": "nmEi5O27K8Ij",
        "outputId": "b28cf3a8-c6c6-486c-8271-2e12f5a142e2"
      },
      "execution_count": null,
      "outputs": [
        {
          "output_type": "stream",
          "name": "stdout",
          "text": [
            "[[   43.49   3853.29    230.95 ]\n",
            " [   43.54   8144.24    228.02 ]\n",
            " [   43.86  13541.84    229.62 ]\n",
            " [   40.325   345.165   355.43 ]]\n"
          ]
        }
      ]
    },
    {
      "cell_type": "code",
      "source": [
        "#5 clusters\n",
        "\n",
        "kmeans_5 = KMeans(n_clusters=5, init='random', max_iter=300, n_init=10, random_state=42)\n",
        "kmeans_5.fit(df_dados)\n",
        "agrupamento5 = kmeans_5.predict(df_dados)\n",
        "\n",
        "#list of cluster label for each object\n",
        "print(agrupamento5)"
      ],
      "metadata": {
        "colab": {
          "base_uri": "https://localhost:8080/"
        },
        "id": "wDtK6ZxOUStO",
        "outputId": "d4875a07-a990-4909-ade4-08226436ad03"
      },
      "execution_count": null,
      "outputs": [
        {
          "output_type": "stream",
          "name": "stdout",
          "text": [
            "[3 2 0 2 2 3 3 4 2 4 4 0 4 4 3 0 3 2 2 2 2 4 4 2 0 2 4 2 2 4 2 2 2 4 4 1 2\n",
            " 1 1 0 2 0 0 2 0 2 2 1 2 2 2 2 2 2 2 2 2 3 0 0 1 2 0 1 1 2 3 4 4 1 2 3 0 1\n",
            " 2 2 0 4 2 0 1 3 2 1 2 0 2 2 4 2 2 0 2 1 2 2 2 2 0 2 0 4 1 0 2 2 3 0 2 2 2\n",
            " 2 2 4 2 1 3 0 4 2 1 1 2 2 2 0 1 2 2 2 2 2 2 2 2 4 4 1 1 4 4 2 0 2 2 2 2 0\n",
            " 4 1 3 2 1 1 1 2 3 3 4 4 0 0 3 2 2 1 2 3 3 2 1 2 0 2 3 2 2 4 2 2 1 1 2 1 4\n",
            " 2 2 2 2 0 1 0 2 4 2 2 0 2 2 2 2 3 0 2 3 4 3 4 4 3 2 4 3 0 4 3 1 2 2 4 0 4\n",
            " 2 2 2 1 2 2 2 2 3 3 2 2 3 2 3 3 2 0 2 1 2 2 4 2 2 3 1 1 2 2 0 4 1 3 4 1 2\n",
            " 3 1 2 2 1 0 2 2 2 2 2 4 2 2 3 2 3 4 4 2 2 4 2 2 2 2 1 2 2 2 2 2 2 2 2 2 2\n",
            " 3 1 4 2 2 0 1 1 2 2 1 0 4 2 2 2 4 3 3 2 2 3 2 4 2 2 2 3 2 2 0 2 2 2 2 0 2\n",
            " 4 2 2 2 2 3 2 2 2 1 0 0 2 3 2 2 2 1 2 1 1 4 2 1 2 2 2 0 2 2 2 2 2 3 0 3 2\n",
            " 3 0 2 0 2 2 2 4 2 1 0 3 1 0 2 2 3 2 0 4 3 2 2 3 3 2 3 2 0 2]\n"
          ]
        }
      ]
    },
    {
      "cell_type": "code",
      "source": [
        "#list of centroids for 5 clusters\n",
        "#the values ​​represent the columns 'age', 'balance' and 'duration'\n",
        "centroides_5 = kmeans_5.cluster_centers_\n",
        "print(centroides_5)"
      ],
      "metadata": {
        "colab": {
          "base_uri": "https://localhost:8080/"
        },
        "id": "L9735AdvUeWX",
        "outputId": "4a02dee0-b17e-41f0-9279-9d96e6714fd8"
      },
      "execution_count": null,
      "outputs": [
        {
          "output_type": "stream",
          "name": "stdout",
          "text": [
            "[[   44.04   2822.72    238.84 ]\n",
            " [   43.54   8144.24    228.02 ]\n",
            " [   40.325   345.165   355.43 ]\n",
            " [   42.94   4883.86    223.06 ]\n",
            " [   43.86  13541.84    229.62 ]]\n"
          ]
        }
      ]
    },
    {
      "cell_type": "code",
      "source": [
        "#6 clusters\n",
        "\n",
        "kmeans_6 = KMeans(n_clusters=6, init='random', max_iter=300, n_init=10, random_state=42)\n",
        "kmeans_6.fit(df_dados)\n",
        "agrupamento6 = kmeans_6.predict(df_dados)\n",
        "\n",
        "#list of cluster label for each object\n",
        "print(agrupamento6)"
      ],
      "metadata": {
        "colab": {
          "base_uri": "https://localhost:8080/"
        },
        "id": "-MkFJtAiU08T",
        "outputId": "6bef7443-852f-4bad-dc2a-8c84eacae2de"
      },
      "execution_count": null,
      "outputs": [
        {
          "output_type": "stream",
          "name": "stdout",
          "text": [
            "[5 0 3 3 0 5 5 4 3 4 2 3 4 4 5 3 5 0 3 0 3 4 4 0 3 0 2 0 0 4 3 0 0 2 4 1 0\n",
            " 1 1 3 0 3 3 3 3 3 0 1 0 0 0 0 0 3 3 0 0 5 3 3 1 0 3 1 1 3 5 2 4 1 3 5 3 1\n",
            " 3 3 3 4 3 3 1 5 0 1 0 3 0 0 2 0 0 3 3 1 0 0 0 0 3 3 3 4 1 3 0 0 5 3 0 0 0\n",
            " 0 0 4 0 1 5 3 4 0 1 1 0 0 3 3 1 0 0 0 3 0 0 0 0 4 2 1 1 2 2 0 3 0 0 0 0 3\n",
            " 2 1 5 0 1 1 1 3 5 5 2 2 3 3 5 3 0 1 0 5 5 0 1 0 3 0 5 0 0 2 0 0 1 1 0 1 2\n",
            " 0 3 0 0 3 1 3 0 4 3 3 3 0 3 0 3 5 3 0 5 4 5 2 4 5 0 4 5 3 4 5 1 0 0 4 3 4\n",
            " 0 0 3 1 0 3 3 0 5 5 0 0 5 0 5 5 3 3 0 1 3 3 4 0 0 5 1 1 0 3 3 2 1 5 2 1 0\n",
            " 5 1 0 0 1 3 3 3 0 0 0 4 0 0 5 0 5 2 2 0 0 4 3 0 0 0 1 3 0 0 0 0 0 0 0 0 3\n",
            " 5 1 4 0 3 3 1 1 3 0 1 3 4 0 0 0 2 5 5 0 3 5 3 4 0 3 0 5 3 0 3 0 0 0 3 3 3\n",
            " 2 3 0 3 0 5 3 0 0 1 3 3 0 5 0 3 0 1 0 1 1 4 0 1 0 0 0 3 0 0 3 0 0 5 3 5 0\n",
            " 5 3 0 3 0 0 0 4 0 1 3 5 1 3 0 0 5 0 3 4 5 0 0 5 5 0 5 0 3 0]\n"
          ]
        }
      ]
    },
    {
      "cell_type": "code",
      "source": [
        "#list of centroids for 6 clusters\n",
        "#the values ​​represent the columns 'age', 'balance' and 'duration'\n",
        "centroides_6 = kmeans_6.cluster_centers_\n",
        "print(centroides_6)"
      ],
      "metadata": {
        "colab": {
          "base_uri": "https://localhost:8080/"
        },
        "id": "lQSzrKUGU9y-",
        "outputId": "d6736134-0b70-4640-d9ea-a84c1d73d272"
      },
      "execution_count": null,
      "outputs": [
        {
          "output_type": "stream",
          "name": "stdout",
          "text": [
            "[[   40.23333333    43.74         398.93333333]\n",
            " [   43.54        8144.24         228.02      ]\n",
            " [   50.5        15203.95         243.        ]\n",
            " [   42.32        2036.08         231.88      ]\n",
            " [   39.43333333 12433.76666667   220.7       ]\n",
            " [   42.94        4883.86         223.06      ]]\n"
          ]
        }
      ]
    },
    {
      "cell_type": "code",
      "source": [
        "#7 clusters\n",
        "\n",
        "kmeans_7 = KMeans(n_clusters=7, init='random', max_iter=300, n_init=10, random_state=42)\n",
        "kmeans_7.fit(df_dados)\n",
        "agrupamento7 = kmeans_7.predict(df_dados)\n",
        "\n",
        "#list of cluster label for each object\n",
        "print(agrupamento7)"
      ],
      "metadata": {
        "colab": {
          "base_uri": "https://localhost:8080/"
        },
        "id": "M-K46tTJVLTC",
        "outputId": "feae0259-856e-4d06-bf38-28f9d1461e44"
      },
      "execution_count": null,
      "outputs": [
        {
          "output_type": "stream",
          "name": "stdout",
          "text": [
            "[5 4 1 3 4 5 5 2 3 2 6 1 2 2 5 1 5 4 3 4 3 2 2 4 1 4 6 4 4 2 3 4 3 6 2 0 4\n",
            " 0 0 1 3 1 1 3 1 3 4 0 3 4 4 4 4 3 3 3 4 5 1 1 0 3 1 0 0 3 5 6 2 0 3 5 1 0\n",
            " 3 3 1 2 3 1 0 5 4 0 4 1 4 4 6 4 4 1 3 0 4 3 4 3 1 3 1 2 0 1 4 3 5 1 3 3 3\n",
            " 4 3 2 3 0 5 1 2 3 0 0 4 4 3 1 0 4 4 4 3 4 4 4 3 2 6 0 0 6 6 3 1 4 4 4 4 1\n",
            " 6 0 5 4 0 0 0 3 5 5 6 6 1 1 5 3 4 0 4 5 5 3 0 4 1 4 5 4 4 6 4 3 0 0 3 0 6\n",
            " 3 3 4 3 1 0 1 4 2 3 3 1 4 3 4 3 5 1 3 5 2 5 6 2 5 3 2 5 1 2 5 0 3 3 2 1 2\n",
            " 4 3 3 0 4 3 3 3 5 5 3 4 5 4 5 5 3 1 4 0 3 3 2 4 4 5 0 0 4 3 1 6 0 5 6 0 4\n",
            " 5 0 3 4 0 1 3 3 3 4 4 2 4 4 5 4 5 6 6 3 4 2 3 4 4 4 0 3 4 4 4 4 4 3 3 3 3\n",
            " 5 0 2 4 3 1 0 0 3 4 0 1 2 4 3 4 6 5 5 4 3 5 3 2 4 3 4 5 3 4 1 3 4 4 3 1 3\n",
            " 6 3 3 3 4 5 3 4 3 0 1 1 4 5 3 3 3 0 4 0 0 2 4 0 4 4 4 1 3 4 3 4 4 5 1 5 4\n",
            " 5 1 3 1 4 3 3 2 4 0 1 5 0 1 4 3 5 3 1 2 5 4 4 5 5 3 5 4 1 4]\n"
          ]
        }
      ]
    },
    {
      "cell_type": "code",
      "source": [
        "#list of centroids for 7 clusters\n",
        "#the values ​​represent the columns 'age', 'balance' and 'duration'\n",
        "centroides_7 = kmeans_7.cluster_centers_\n",
        "print(centroides_7)"
      ],
      "metadata": {
        "colab": {
          "base_uri": "https://localhost:8080/"
        },
        "id": "9JhWmn3QVkGU",
        "outputId": "4d47b6d4-edac-4ce4-fd9e-e1712af32a6b"
      },
      "execution_count": null,
      "outputs": [
        {
          "output_type": "stream",
          "name": "stdout",
          "text": [
            "[[   43.54        8144.24         228.02      ]\n",
            " [   44.04        2822.72         238.84      ]\n",
            " [   39.43333333 12433.76666667   220.7       ]\n",
            " [   41.41237113   833.81443299   494.46391753]\n",
            " [   39.30097087  -115.01941748   224.49514563]\n",
            " [   42.94        4883.86         223.06      ]\n",
            " [   50.5        15203.95         243.        ]]\n"
          ]
        }
      ]
    },
    {
      "cell_type": "code",
      "source": [
        "df_centroides4 = pd.DataFrame(centroides_4, columns = ['age','balance','duration'])\n",
        "df_centroides4 = df_centroides4.drop(labels = 'age', axis =1)\n",
        "df_centroides4"
      ],
      "metadata": {
        "colab": {
          "base_uri": "https://localhost:8080/",
          "height": 175
        },
        "id": "rVFm1POtPtX7",
        "outputId": "5e272537-290d-421c-8a94-2462c969d5ab"
      },
      "execution_count": null,
      "outputs": [
        {
          "output_type": "execute_result",
          "data": {
            "text/plain": [
              "     balance  duration\n",
              "0   3853.290    230.95\n",
              "1   8144.240    228.02\n",
              "2  13541.840    229.62\n",
              "3    345.165    355.43"
            ],
            "text/html": [
              "\n",
              "  <div id=\"df-3c34562b-d359-469e-a3d0-1bc475310db7\">\n",
              "    <div class=\"colab-df-container\">\n",
              "      <div>\n",
              "<style scoped>\n",
              "    .dataframe tbody tr th:only-of-type {\n",
              "        vertical-align: middle;\n",
              "    }\n",
              "\n",
              "    .dataframe tbody tr th {\n",
              "        vertical-align: top;\n",
              "    }\n",
              "\n",
              "    .dataframe thead th {\n",
              "        text-align: right;\n",
              "    }\n",
              "</style>\n",
              "<table border=\"1\" class=\"dataframe\">\n",
              "  <thead>\n",
              "    <tr style=\"text-align: right;\">\n",
              "      <th></th>\n",
              "      <th>balance</th>\n",
              "      <th>duration</th>\n",
              "    </tr>\n",
              "  </thead>\n",
              "  <tbody>\n",
              "    <tr>\n",
              "      <th>0</th>\n",
              "      <td>3853.290</td>\n",
              "      <td>230.95</td>\n",
              "    </tr>\n",
              "    <tr>\n",
              "      <th>1</th>\n",
              "      <td>8144.240</td>\n",
              "      <td>228.02</td>\n",
              "    </tr>\n",
              "    <tr>\n",
              "      <th>2</th>\n",
              "      <td>13541.840</td>\n",
              "      <td>229.62</td>\n",
              "    </tr>\n",
              "    <tr>\n",
              "      <th>3</th>\n",
              "      <td>345.165</td>\n",
              "      <td>355.43</td>\n",
              "    </tr>\n",
              "  </tbody>\n",
              "</table>\n",
              "</div>\n",
              "      <button class=\"colab-df-convert\" onclick=\"convertToInteractive('df-3c34562b-d359-469e-a3d0-1bc475310db7')\"\n",
              "              title=\"Convert this dataframe to an interactive table.\"\n",
              "              style=\"display:none;\">\n",
              "        \n",
              "  <svg xmlns=\"http://www.w3.org/2000/svg\" height=\"24px\"viewBox=\"0 0 24 24\"\n",
              "       width=\"24px\">\n",
              "    <path d=\"M0 0h24v24H0V0z\" fill=\"none\"/>\n",
              "    <path d=\"M18.56 5.44l.94 2.06.94-2.06 2.06-.94-2.06-.94-.94-2.06-.94 2.06-2.06.94zm-11 1L8.5 8.5l.94-2.06 2.06-.94-2.06-.94L8.5 2.5l-.94 2.06-2.06.94zm10 10l.94 2.06.94-2.06 2.06-.94-2.06-.94-.94-2.06-.94 2.06-2.06.94z\"/><path d=\"M17.41 7.96l-1.37-1.37c-.4-.4-.92-.59-1.43-.59-.52 0-1.04.2-1.43.59L10.3 9.45l-7.72 7.72c-.78.78-.78 2.05 0 2.83L4 21.41c.39.39.9.59 1.41.59.51 0 1.02-.2 1.41-.59l7.78-7.78 2.81-2.81c.8-.78.8-2.07 0-2.86zM5.41 20L4 18.59l7.72-7.72 1.47 1.35L5.41 20z\"/>\n",
              "  </svg>\n",
              "      </button>\n",
              "      \n",
              "  <style>\n",
              "    .colab-df-container {\n",
              "      display:flex;\n",
              "      flex-wrap:wrap;\n",
              "      gap: 12px;\n",
              "    }\n",
              "\n",
              "    .colab-df-convert {\n",
              "      background-color: #E8F0FE;\n",
              "      border: none;\n",
              "      border-radius: 50%;\n",
              "      cursor: pointer;\n",
              "      display: none;\n",
              "      fill: #1967D2;\n",
              "      height: 32px;\n",
              "      padding: 0 0 0 0;\n",
              "      width: 32px;\n",
              "    }\n",
              "\n",
              "    .colab-df-convert:hover {\n",
              "      background-color: #E2EBFA;\n",
              "      box-shadow: 0px 1px 2px rgba(60, 64, 67, 0.3), 0px 1px 3px 1px rgba(60, 64, 67, 0.15);\n",
              "      fill: #174EA6;\n",
              "    }\n",
              "\n",
              "    [theme=dark] .colab-df-convert {\n",
              "      background-color: #3B4455;\n",
              "      fill: #D2E3FC;\n",
              "    }\n",
              "\n",
              "    [theme=dark] .colab-df-convert:hover {\n",
              "      background-color: #434B5C;\n",
              "      box-shadow: 0px 1px 3px 1px rgba(0, 0, 0, 0.15);\n",
              "      filter: drop-shadow(0px 1px 2px rgba(0, 0, 0, 0.3));\n",
              "      fill: #FFFFFF;\n",
              "    }\n",
              "  </style>\n",
              "\n",
              "      <script>\n",
              "        const buttonEl =\n",
              "          document.querySelector('#df-3c34562b-d359-469e-a3d0-1bc475310db7 button.colab-df-convert');\n",
              "        buttonEl.style.display =\n",
              "          google.colab.kernel.accessAllowed ? 'block' : 'none';\n",
              "\n",
              "        async function convertToInteractive(key) {\n",
              "          const element = document.querySelector('#df-3c34562b-d359-469e-a3d0-1bc475310db7');\n",
              "          const dataTable =\n",
              "            await google.colab.kernel.invokeFunction('convertToInteractive',\n",
              "                                                     [key], {});\n",
              "          if (!dataTable) return;\n",
              "\n",
              "          const docLinkHtml = 'Like what you see? Visit the ' +\n",
              "            '<a target=\"_blank\" href=https://colab.research.google.com/notebooks/data_table.ipynb>data table notebook</a>'\n",
              "            + ' to learn more about interactive tables.';\n",
              "          element.innerHTML = '';\n",
              "          dataTable['output_type'] = 'display_data';\n",
              "          await google.colab.output.renderOutput(dataTable, element);\n",
              "          const docLink = document.createElement('div');\n",
              "          docLink.innerHTML = docLinkHtml;\n",
              "          element.appendChild(docLink);\n",
              "        }\n",
              "      </script>\n",
              "    </div>\n",
              "  </div>\n",
              "  "
            ]
          },
          "metadata": {},
          "execution_count": 12
        }
      ]
    },
    {
      "cell_type": "markdown",
      "source": [
        "Plotting the centroids for 4 clusters"
      ],
      "metadata": {
        "id": "d-LwwZDSz3S4"
      }
    },
    {
      "cell_type": "code",
      "source": [
        "plt.scatter(df_centroides4['balance'], df_centroides4['duration'])\n",
        "plt.show()"
      ],
      "metadata": {
        "colab": {
          "base_uri": "https://localhost:8080/",
          "height": 431
        },
        "id": "92Ne9RGPQoRm",
        "outputId": "2bfe7973-fe23-4c7c-b7ab-e91901c44270"
      },
      "execution_count": null,
      "outputs": [
        {
          "output_type": "display_data",
          "data": {
            "text/plain": [
              "<Figure size 640x480 with 1 Axes>"
            ],
            "image/png": "[encoded data removed]"
          },
          "metadata": {}
        }
      ]
    },
    {
      "cell_type": "code",
      "source": [
        "df_dados.head()"
      ],
      "metadata": {
        "colab": {
          "base_uri": "https://localhost:8080/",
          "height": 206
        },
        "id": "otibOHKUIudu",
        "outputId": "333281ec-2af1-4c49-ef52-372f3d498d7b"
      },
      "execution_count": null,
      "outputs": [
        {
          "output_type": "execute_result",
          "data": {
            "text/plain": [
              "   age  balance  duration\n",
              "0   37     4760       182\n",
              "1   30     -393       435\n",
              "2   32     2979       156\n",
              "3   30     1185       284\n",
              "4   42      221       720"
            ],
            "text/html": [
              "\n",
              "  <div id=\"df-2af3d08c-b4bb-47c1-b009-dbc704bdea36\">\n",
              "    <div class=\"colab-df-container\">\n",
              "      <div>\n",
              "<style scoped>\n",
              "    .dataframe tbody tr th:only-of-type {\n",
              "        vertical-align: middle;\n",
              "    }\n",
              "\n",
              "    .dataframe tbody tr th {\n",
              "        vertical-align: top;\n",
              "    }\n",
              "\n",
              "    .dataframe thead th {\n",
              "        text-align: right;\n",
              "    }\n",
              "</style>\n",
              "<table border=\"1\" class=\"dataframe\">\n",
              "  <thead>\n",
              "    <tr style=\"text-align: right;\">\n",
              "      <th></th>\n",
              "      <th>age</th>\n",
              "      <th>balance</th>\n",
              "      <th>duration</th>\n",
              "    </tr>\n",
              "  </thead>\n",
              "  <tbody>\n",
              "    <tr>\n",
              "      <th>0</th>\n",
              "      <td>37</td>\n",
              "      <td>4760</td>\n",
              "      <td>182</td>\n",
              "    </tr>\n",
              "    <tr>\n",
              "      <th>1</th>\n",
              "      <td>30</td>\n",
              "      <td>-393</td>\n",
              "      <td>435</td>\n",
              "    </tr>\n",
              "    <tr>\n",
              "      <th>2</th>\n",
              "      <td>32</td>\n",
              "      <td>2979</td>\n",
              "      <td>156</td>\n",
              "    </tr>\n",
              "    <tr>\n",
              "      <th>3</th>\n",
              "      <td>30</td>\n",
              "      <td>1185</td>\n",
              "      <td>284</td>\n",
              "    </tr>\n",
              "    <tr>\n",
              "      <th>4</th>\n",
              "      <td>42</td>\n",
              "      <td>221</td>\n",
              "      <td>720</td>\n",
              "    </tr>\n",
              "  </tbody>\n",
              "</table>\n",
              "</div>\n",
              "      <button class=\"colab-df-convert\" onclick=\"convertToInteractive('df-2af3d08c-b4bb-47c1-b009-dbc704bdea36')\"\n",
              "              title=\"Convert this dataframe to an interactive table.\"\n",
              "              style=\"display:none;\">\n",
              "        \n",
              "  <svg xmlns=\"http://www.w3.org/2000/svg\" height=\"24px\"viewBox=\"0 0 24 24\"\n",
              "       width=\"24px\">\n",
              "    <path d=\"M0 0h24v24H0V0z\" fill=\"none\"/>\n",
              "    <path d=\"M18.56 5.44l.94 2.06.94-2.06 2.06-.94-2.06-.94-.94-2.06-.94 2.06-2.06.94zm-11 1L8.5 8.5l.94-2.06 2.06-.94-2.06-.94L8.5 2.5l-.94 2.06-2.06.94zm10 10l.94 2.06.94-2.06 2.06-.94-2.06-.94-.94-2.06-.94 2.06-2.06.94z\"/><path d=\"M17.41 7.96l-1.37-1.37c-.4-.4-.92-.59-1.43-.59-.52 0-1.04.2-1.43.59L10.3 9.45l-7.72 7.72c-.78.78-.78 2.05 0 2.83L4 21.41c.39.39.9.59 1.41.59.51 0 1.02-.2 1.41-.59l7.78-7.78 2.81-2.81c.8-.78.8-2.07 0-2.86zM5.41 20L4 18.59l7.72-7.72 1.47 1.35L5.41 20z\"/>\n",
              "  </svg>\n",
              "      </button>\n",
              "      \n",
              "  <style>\n",
              "    .colab-df-container {\n",
              "      display:flex;\n",
              "      flex-wrap:wrap;\n",
              "      gap: 12px;\n",
              "    }\n",
              "\n",
              "    .colab-df-convert {\n",
              "      background-color: #E8F0FE;\n",
              "      border: none;\n",
              "      border-radius: 50%;\n",
              "      cursor: pointer;\n",
              "      display: none;\n",
              "      fill: #1967D2;\n",
              "      height: 32px;\n",
              "      padding: 0 0 0 0;\n",
              "      width: 32px;\n",
              "    }\n",
              "\n",
              "    .colab-df-convert:hover {\n",
              "      background-color: #E2EBFA;\n",
              "      box-shadow: 0px 1px 2px rgba(60, 64, 67, 0.3), 0px 1px 3px 1px rgba(60, 64, 67, 0.15);\n",
              "      fill: #174EA6;\n",
              "    }\n",
              "\n",
              "    [theme=dark] .colab-df-convert {\n",
              "      background-color: #3B4455;\n",
              "      fill: #D2E3FC;\n",
              "    }\n",
              "\n",
              "    [theme=dark] .colab-df-convert:hover {\n",
              "      background-color: #434B5C;\n",
              "      box-shadow: 0px 1px 3px 1px rgba(0, 0, 0, 0.15);\n",
              "      filter: drop-shadow(0px 1px 2px rgba(0, 0, 0, 0.3));\n",
              "      fill: #FFFFFF;\n",
              "    }\n",
              "  </style>\n",
              "\n",
              "      <script>\n",
              "        const buttonEl =\n",
              "          document.querySelector('#df-2af3d08c-b4bb-47c1-b009-dbc704bdea36 button.colab-df-convert');\n",
              "        buttonEl.style.display =\n",
              "          google.colab.kernel.accessAllowed ? 'block' : 'none';\n",
              "\n",
              "        async function convertToInteractive(key) {\n",
              "          const element = document.querySelector('#df-2af3d08c-b4bb-47c1-b009-dbc704bdea36');\n",
              "          const dataTable =\n",
              "            await google.colab.kernel.invokeFunction('convertToInteractive',\n",
              "                                                     [key], {});\n",
              "          if (!dataTable) return;\n",
              "\n",
              "          const docLinkHtml = 'Like what you see? Visit the ' +\n",
              "            '<a target=\"_blank\" href=https://colab.research.google.com/notebooks/data_table.ipynb>data table notebook</a>'\n",
              "            + ' to learn more about interactive tables.';\n",
              "          element.innerHTML = '';\n",
              "          dataTable['output_type'] = 'display_data';\n",
              "          await google.colab.output.renderOutput(dataTable, element);\n",
              "          const docLink = document.createElement('div');\n",
              "          docLink.innerHTML = docLinkHtml;\n",
              "          element.appendChild(docLink);\n",
              "        }\n",
              "      </script>\n",
              "    </div>\n",
              "  </div>\n",
              "  "
            ]
          },
          "metadata": {},
          "execution_count": 14
        }
      ]
    },
    {
      "cell_type": "markdown",
      "metadata": {
        "id": "KiWWpE3Z66I3"
      },
      "source": [
        "##2.\n",
        "\n",
        "Using the 4-clusters model to get the 3 closest object to the centroid 0, using euclidean distance"
      ]
    },
    {
      "cell_type": "code",
      "source": [
        "#calculating distance with np.linalg.norm\n",
        "dist = np.linalg.norm(df_dados - centroides_4[0,:],axis=1).reshape(-1,1)\n",
        "dist[:3,:]"
      ],
      "metadata": {
        "colab": {
          "base_uri": "https://localhost:8080/"
        },
        "id": "quPd3qk4wB-Q",
        "outputId": "506e5824-8c0e-4bc5-f6cf-fcad316dd5c3"
      },
      "execution_count": null,
      "outputs": [
        {
          "output_type": "execute_result",
          "data": {
            "text/plain": [
              "array([[ 908.05354837],\n",
              "       [4251.21125642],\n",
              "       [ 877.57194959]])"
            ]
          },
          "metadata": {},
          "execution_count": 15
        }
      ]
    },
    {
      "cell_type": "code",
      "source": [
        "#calculating distance with transform\n",
        "distancias = kmeans_4.transform(df_dados)\n",
        "distancias[:3,:]"
      ],
      "metadata": {
        "colab": {
          "base_uri": "https://localhost:8080/"
        },
        "id": "c4Ak3f2YsYcG",
        "outputId": "a3f1b369-2b6f-45b6-9264-99b30c5be63b"
      },
      "execution_count": null,
      "outputs": [
        {
          "output_type": "execute_result",
          "data": {
            "text/plain": [
              "array([[  908.05354837,  3384.55920167,  8781.97178939,  4418.24140329],\n",
              "       [ 4251.21125642,  8539.75941521, 13936.36031644,   742.51300174],\n",
              "       [  877.57194959,  5165.75496027, 10563.10321021,  2641.38759703]])"
            ]
          },
          "metadata": {},
          "execution_count": 16
        }
      ]
    },
    {
      "cell_type": "code",
      "source": [
        "df_dist = pd.DataFrame(distancias[:3,:], columns = ['centroide 0','1','2','3'])\n",
        "df_dist = df_dist.drop(labels = ['1','2','3'], axis =1)\n",
        "df_dist"
      ],
      "metadata": {
        "colab": {
          "base_uri": "https://localhost:8080/",
          "height": 143
        },
        "id": "gXL7svKRubKg",
        "outputId": "30e8d850-2126-4e66-88ad-6956dc16ccaa"
      },
      "execution_count": null,
      "outputs": [
        {
          "output_type": "execute_result",
          "data": {
            "text/plain": [
              "   centroide 0\n",
              "0   908.053548\n",
              "1  4251.211256\n",
              "2   877.571950"
            ],
            "text/html": [
              "\n",
              "  <div id=\"df-a4e2f720-107d-4fc4-aa5f-462d58007c59\">\n",
              "    <div class=\"colab-df-container\">\n",
              "      <div>\n",
              "<style scoped>\n",
              "    .dataframe tbody tr th:only-of-type {\n",
              "        vertical-align: middle;\n",
              "    }\n",
              "\n",
              "    .dataframe tbody tr th {\n",
              "        vertical-align: top;\n",
              "    }\n",
              "\n",
              "    .dataframe thead th {\n",
              "        text-align: right;\n",
              "    }\n",
              "</style>\n",
              "<table border=\"1\" class=\"dataframe\">\n",
              "  <thead>\n",
              "    <tr style=\"text-align: right;\">\n",
              "      <th></th>\n",
              "      <th>centroide 0</th>\n",
              "    </tr>\n",
              "  </thead>\n",
              "  <tbody>\n",
              "    <tr>\n",
              "      <th>0</th>\n",
              "      <td>908.053548</td>\n",
              "    </tr>\n",
              "    <tr>\n",
              "      <th>1</th>\n",
              "      <td>4251.211256</td>\n",
              "    </tr>\n",
              "    <tr>\n",
              "      <th>2</th>\n",
              "      <td>877.571950</td>\n",
              "    </tr>\n",
              "  </tbody>\n",
              "</table>\n",
              "</div>\n",
              "      <button class=\"colab-df-convert\" onclick=\"convertToInteractive('df-a4e2f720-107d-4fc4-aa5f-462d58007c59')\"\n",
              "              title=\"Convert this dataframe to an interactive table.\"\n",
              "              style=\"display:none;\">\n",
              "        \n",
              "  <svg xmlns=\"http://www.w3.org/2000/svg\" height=\"24px\"viewBox=\"0 0 24 24\"\n",
              "       width=\"24px\">\n",
              "    <path d=\"M0 0h24v24H0V0z\" fill=\"none\"/>\n",
              "    <path d=\"M18.56 5.44l.94 2.06.94-2.06 2.06-.94-2.06-.94-.94-2.06-.94 2.06-2.06.94zm-11 1L8.5 8.5l.94-2.06 2.06-.94-2.06-.94L8.5 2.5l-.94 2.06-2.06.94zm10 10l.94 2.06.94-2.06 2.06-.94-2.06-.94-.94-2.06-.94 2.06-2.06.94z\"/><path d=\"M17.41 7.96l-1.37-1.37c-.4-.4-.92-.59-1.43-.59-.52 0-1.04.2-1.43.59L10.3 9.45l-7.72 7.72c-.78.78-.78 2.05 0 2.83L4 21.41c.39.39.9.59 1.41.59.51 0 1.02-.2 1.41-.59l7.78-7.78 2.81-2.81c.8-.78.8-2.07 0-2.86zM5.41 20L4 18.59l7.72-7.72 1.47 1.35L5.41 20z\"/>\n",
              "  </svg>\n",
              "      </button>\n",
              "      \n",
              "  <style>\n",
              "    .colab-df-container {\n",
              "      display:flex;\n",
              "      flex-wrap:wrap;\n",
              "      gap: 12px;\n",
              "    }\n",
              "\n",
              "    .colab-df-convert {\n",
              "      background-color: #E8F0FE;\n",
              "      border: none;\n",
              "      border-radius: 50%;\n",
              "      cursor: pointer;\n",
              "      display: none;\n",
              "      fill: #1967D2;\n",
              "      height: 32px;\n",
              "      padding: 0 0 0 0;\n",
              "      width: 32px;\n",
              "    }\n",
              "\n",
              "    .colab-df-convert:hover {\n",
              "      background-color: #E2EBFA;\n",
              "      box-shadow: 0px 1px 2px rgba(60, 64, 67, 0.3), 0px 1px 3px 1px rgba(60, 64, 67, 0.15);\n",
              "      fill: #174EA6;\n",
              "    }\n",
              "\n",
              "    [theme=dark] .colab-df-convert {\n",
              "      background-color: #3B4455;\n",
              "      fill: #D2E3FC;\n",
              "    }\n",
              "\n",
              "    [theme=dark] .colab-df-convert:hover {\n",
              "      background-color: #434B5C;\n",
              "      box-shadow: 0px 1px 3px 1px rgba(0, 0, 0, 0.15);\n",
              "      filter: drop-shadow(0px 1px 2px rgba(0, 0, 0, 0.3));\n",
              "      fill: #FFFFFF;\n",
              "    }\n",
              "  </style>\n",
              "\n",
              "      <script>\n",
              "        const buttonEl =\n",
              "          document.querySelector('#df-a4e2f720-107d-4fc4-aa5f-462d58007c59 button.colab-df-convert');\n",
              "        buttonEl.style.display =\n",
              "          google.colab.kernel.accessAllowed ? 'block' : 'none';\n",
              "\n",
              "        async function convertToInteractive(key) {\n",
              "          const element = document.querySelector('#df-a4e2f720-107d-4fc4-aa5f-462d58007c59');\n",
              "          const dataTable =\n",
              "            await google.colab.kernel.invokeFunction('convertToInteractive',\n",
              "                                                     [key], {});\n",
              "          if (!dataTable) return;\n",
              "\n",
              "          const docLinkHtml = 'Like what you see? Visit the ' +\n",
              "            '<a target=\"_blank\" href=https://colab.research.google.com/notebooks/data_table.ipynb>data table notebook</a>'\n",
              "            + ' to learn more about interactive tables.';\n",
              "          element.innerHTML = '';\n",
              "          dataTable['output_type'] = 'display_data';\n",
              "          await google.colab.output.renderOutput(dataTable, element);\n",
              "          const docLink = document.createElement('div');\n",
              "          docLink.innerHTML = docLinkHtml;\n",
              "          element.appendChild(docLink);\n",
              "        }\n",
              "      </script>\n",
              "    </div>\n",
              "  </div>\n",
              "  "
            ]
          },
          "metadata": {},
          "execution_count": 17
        }
      ]
    },
    {
      "cell_type": "markdown",
      "metadata": {
        "id": "Snz6GXP_7o2n"
      },
      "source": [
        "#3.\n",
        "\n",
        "Identifying the appropriate number of clusters for using the silhouette score."
      ]
    },
    {
      "cell_type": "code",
      "source": [
        "sil4 = skt.metrics.silhouette_score(df_dados, agrupamento4)\n",
        "sil5 = skt.metrics.silhouette_score(df_dados, agrupamento5)\n",
        "sil6 = skt.metrics.silhouette_score(df_dados, agrupamento6)\n",
        "sil7 = skt.metrics.silhouette_score(df_dados, agrupamento7)\n",
        "\n",
        "print([sil4,sil5,sil6,sil7])\n",
        "\n",
        "#best number of clusters = 5"
      ],
      "metadata": {
        "colab": {
          "base_uri": "https://localhost:8080/"
        },
        "id": "hgqPZafPzyj2",
        "outputId": "4c94b648-8f41-448f-a673-efe92a889bd4"
      },
      "execution_count": null,
      "outputs": [
        {
          "output_type": "stream",
          "name": "stdout",
          "text": [
            "[0.7159252903584553, 0.7302185343753516, 0.6704259425717848, 0.6545720537390539]\n"
          ]
        }
      ]
    },
    {
      "cell_type": "markdown",
      "metadata": {
        "id": "BnWSWCTE9xDE"
      },
      "source": [
        "##4.\n",
        "Using the attributes \"balance\" and \"duration\" to plot the clusters for 4-cluster model"
      ]
    },
    {
      "cell_type": "code",
      "source": [
        "df_dados_pr = df_dados\n",
        "df_dados_pr['cluster'] = agrupamento4\n",
        "df_dados_pr = df_dados_pr.drop(labels = 'age', axis =1)\n",
        "df_dados_pr.head()"
      ],
      "metadata": {
        "colab": {
          "base_uri": "https://localhost:8080/",
          "height": 206
        },
        "id": "BjrgdmtiRHhK",
        "outputId": "d9b204dd-1c19-48ad-c6bd-37f966a8381f"
      },
      "execution_count": null,
      "outputs": [
        {
          "output_type": "execute_result",
          "data": {
            "text/plain": [
              "   balance  duration  cluster\n",
              "0     4760       182        0\n",
              "1     -393       435        3\n",
              "2     2979       156        0\n",
              "3     1185       284        3\n",
              "4      221       720        3"
            ],
            "text/html": [
              "\n",
              "  <div id=\"df-b8bd788d-ef3c-440b-9fd7-9665ff79eaff\">\n",
              "    <div class=\"colab-df-container\">\n",
              "      <div>\n",
              "<style scoped>\n",
              "    .dataframe tbody tr th:only-of-type {\n",
              "        vertical-align: middle;\n",
              "    }\n",
              "\n",
              "    .dataframe tbody tr th {\n",
              "        vertical-align: top;\n",
              "    }\n",
              "\n",
              "    .dataframe thead th {\n",
              "        text-align: right;\n",
              "    }\n",
              "</style>\n",
              "<table border=\"1\" class=\"dataframe\">\n",
              "  <thead>\n",
              "    <tr style=\"text-align: right;\">\n",
              "      <th></th>\n",
              "      <th>balance</th>\n",
              "      <th>duration</th>\n",
              "      <th>cluster</th>\n",
              "    </tr>\n",
              "  </thead>\n",
              "  <tbody>\n",
              "    <tr>\n",
              "      <th>0</th>\n",
              "      <td>4760</td>\n",
              "      <td>182</td>\n",
              "      <td>0</td>\n",
              "    </tr>\n",
              "    <tr>\n",
              "      <th>1</th>\n",
              "      <td>-393</td>\n",
              "      <td>435</td>\n",
              "      <td>3</td>\n",
              "    </tr>\n",
              "    <tr>\n",
              "      <th>2</th>\n",
              "      <td>2979</td>\n",
              "      <td>156</td>\n",
              "      <td>0</td>\n",
              "    </tr>\n",
              "    <tr>\n",
              "      <th>3</th>\n",
              "      <td>1185</td>\n",
              "      <td>284</td>\n",
              "      <td>3</td>\n",
              "    </tr>\n",
              "    <tr>\n",
              "      <th>4</th>\n",
              "      <td>221</td>\n",
              "      <td>720</td>\n",
              "      <td>3</td>\n",
              "    </tr>\n",
              "  </tbody>\n",
              "</table>\n",
              "</div>\n",
              "      <button class=\"colab-df-convert\" onclick=\"convertToInteractive('df-b8bd788d-ef3c-440b-9fd7-9665ff79eaff')\"\n",
              "              title=\"Convert this dataframe to an interactive table.\"\n",
              "              style=\"display:none;\">\n",
              "        \n",
              "  <svg xmlns=\"http://www.w3.org/2000/svg\" height=\"24px\"viewBox=\"0 0 24 24\"\n",
              "       width=\"24px\">\n",
              "    <path d=\"M0 0h24v24H0V0z\" fill=\"none\"/>\n",
              "    <path d=\"M18.56 5.44l.94 2.06.94-2.06 2.06-.94-2.06-.94-.94-2.06-.94 2.06-2.06.94zm-11 1L8.5 8.5l.94-2.06 2.06-.94-2.06-.94L8.5 2.5l-.94 2.06-2.06.94zm10 10l.94 2.06.94-2.06 2.06-.94-2.06-.94-.94-2.06-.94 2.06-2.06.94z\"/><path d=\"M17.41 7.96l-1.37-1.37c-.4-.4-.92-.59-1.43-.59-.52 0-1.04.2-1.43.59L10.3 9.45l-7.72 7.72c-.78.78-.78 2.05 0 2.83L4 21.41c.39.39.9.59 1.41.59.51 0 1.02-.2 1.41-.59l7.78-7.78 2.81-2.81c.8-.78.8-2.07 0-2.86zM5.41 20L4 18.59l7.72-7.72 1.47 1.35L5.41 20z\"/>\n",
              "  </svg>\n",
              "      </button>\n",
              "      \n",
              "  <style>\n",
              "    .colab-df-container {\n",
              "      display:flex;\n",
              "      flex-wrap:wrap;\n",
              "      gap: 12px;\n",
              "    }\n",
              "\n",
              "    .colab-df-convert {\n",
              "      background-color: #E8F0FE;\n",
              "      border: none;\n",
              "      border-radius: 50%;\n",
              "      cursor: pointer;\n",
              "      display: none;\n",
              "      fill: #1967D2;\n",
              "      height: 32px;\n",
              "      padding: 0 0 0 0;\n",
              "      width: 32px;\n",
              "    }\n",
              "\n",
              "    .colab-df-convert:hover {\n",
              "      background-color: #E2EBFA;\n",
              "      box-shadow: 0px 1px 2px rgba(60, 64, 67, 0.3), 0px 1px 3px 1px rgba(60, 64, 67, 0.15);\n",
              "      fill: #174EA6;\n",
              "    }\n",
              "\n",
              "    [theme=dark] .colab-df-convert {\n",
              "      background-color: #3B4455;\n",
              "      fill: #D2E3FC;\n",
              "    }\n",
              "\n",
              "    [theme=dark] .colab-df-convert:hover {\n",
              "      background-color: #434B5C;\n",
              "      box-shadow: 0px 1px 3px 1px rgba(0, 0, 0, 0.15);\n",
              "      filter: drop-shadow(0px 1px 2px rgba(0, 0, 0, 0.3));\n",
              "      fill: #FFFFFF;\n",
              "    }\n",
              "  </style>\n",
              "\n",
              "      <script>\n",
              "        const buttonEl =\n",
              "          document.querySelector('#df-b8bd788d-ef3c-440b-9fd7-9665ff79eaff button.colab-df-convert');\n",
              "        buttonEl.style.display =\n",
              "          google.colab.kernel.accessAllowed ? 'block' : 'none';\n",
              "\n",
              "        async function convertToInteractive(key) {\n",
              "          const element = document.querySelector('#df-b8bd788d-ef3c-440b-9fd7-9665ff79eaff');\n",
              "          const dataTable =\n",
              "            await google.colab.kernel.invokeFunction('convertToInteractive',\n",
              "                                                     [key], {});\n",
              "          if (!dataTable) return;\n",
              "\n",
              "          const docLinkHtml = 'Like what you see? Visit the ' +\n",
              "            '<a target=\"_blank\" href=https://colab.research.google.com/notebooks/data_table.ipynb>data table notebook</a>'\n",
              "            + ' to learn more about interactive tables.';\n",
              "          element.innerHTML = '';\n",
              "          dataTable['output_type'] = 'display_data';\n",
              "          await google.colab.output.renderOutput(dataTable, element);\n",
              "          const docLink = document.createElement('div');\n",
              "          docLink.innerHTML = docLinkHtml;\n",
              "          element.appendChild(docLink);\n",
              "        }\n",
              "      </script>\n",
              "    </div>\n",
              "  </div>\n",
              "  "
            ]
          },
          "metadata": {},
          "execution_count": 19
        }
      ]
    },
    {
      "cell_type": "code",
      "source": [
        "u_agrupamento = np.unique(agrupamento4)\n",
        "for i in u_agrupamento:\n",
        "    plt.scatter(df_dados_pr.loc[agrupamento4 == i]['balance'] , df_dados_pr.loc[agrupamento4 == i]['duration'])\n",
        "plt.legend()\n",
        "plt.show()"
      ],
      "metadata": {
        "colab": {
          "base_uri": "https://localhost:8080/",
          "height": 467
        },
        "id": "n92joN8KWA2K",
        "outputId": "0282a76a-1808-4c69-c14b-d751c016755d"
      },
      "execution_count": null,
      "outputs": [
        {
          "output_type": "stream",
          "name": "stderr",
          "text": [
            "WARNING:matplotlib.legend:No artists with labels found to put in legend.  Note that artists whose label start with an underscore are ignored when legend() is called with no argument.\n"
          ]
        },
        {
          "output_type": "display_data",
          "data": {
            "text/plain": [
              "<Figure size 640x480 with 1 Axes>"
            ],
            "image/png": "[encoded data removed]"
          },
          "metadata": {}
        }
      ]
    }
  ]
}